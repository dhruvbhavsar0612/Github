{
 "cells": [
  {
   "cell_type": "markdown",
   "metadata": {},
   "source": [
    "## Classic searching\n",
    "\n",
    "Conside a user wants to find contact information and queries : \"contacts\"\n",
    "\n",
    "Just like Google, the job is to comeback with set oof documents sorted by their relevance to user's query"
   ]
  },
  {
   "cell_type": "markdown",
   "metadata": {},
   "source": [
    "## Score mechanism\n",
    "\n",
    "For that, we come up with a number, a score that quantifies how relevant is the document to the given query.\n",
    "\n",
    "*score= f(query, document)*"
   ]
  },
  {
   "cell_type": "markdown",
   "metadata": {},
   "source": [
    "Thus, we compute scores for all documents in the collection of documents\n",
    "Sort them according to scores, and \n",
    "Return N documents with a highest score."
   ]
  },
  {
   "cell_type": "markdown",
   "metadata": {},
   "source": []
  }
 ],
 "metadata": {
  "language_info": {
   "name": "python"
  },
  "orig_nbformat": 4
 },
 "nbformat": 4,
 "nbformat_minor": 2
}
